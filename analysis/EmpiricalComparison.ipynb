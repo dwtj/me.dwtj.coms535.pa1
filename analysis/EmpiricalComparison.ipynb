{
 "cells": [
  {
   "cell_type": "code",
   "execution_count": 8,
   "metadata": {
    "collapsed": false
   },
   "outputs": [],
   "source": [
    "%matplotlib inline\n",
    "\n",
    "import pandas as pd\n",
    "import matplotlib as plt"
   ]
  },
  {
   "cell_type": "code",
   "execution_count": 9,
   "metadata": {
    "collapsed": true
   },
   "outputs": [],
   "source": [
    "df = pd.read_csv('EmpiricalComparison.csv')\n",
    "df.columns = ['NaiveDifferential Duration',\n",
    "              'BloomDifferential Duration',\n",
    "              'InDiffFile?',\n",
    "              'InFilter?']\n",
    "\n",
    "# Convert durations from ms to s:\n",
    "df['NaiveDifferential Duration'] /= 1000\n",
    "df['BloomDifferential Duration'] /= 1000"
   ]
  },
  {
   "cell_type": "code",
   "execution_count": 10,
   "metadata": {
    "collapsed": false
   },
   "outputs": [
    {
     "data": {
      "text/plain": [
       "NaiveDifferential Duration    7.985080\n",
       "BloomDifferential Duration    6.709179\n",
       "InDiffFile?                   0.106888\n",
       "InFilter?                     0.131433\n",
       "dtype: float64"
      ]
     },
     "execution_count": 10,
     "metadata": {},
     "output_type": "execute_result"
    }
   ],
   "source": [
    "df.mean()"
   ]
  },
  {
   "cell_type": "code",
   "execution_count": 11,
   "metadata": {
    "collapsed": false
   },
   "outputs": [
    {
     "data": {
      "text/plain": [
       "0.8402143705065146"
      ]
     },
     "execution_count": 11,
     "metadata": {},
     "output_type": "execute_result"
    }
   ],
   "source": [
    "df['BloomDifferential Duration'].mean() / df['NaiveDifferential Duration'].mean()"
   ]
  },
  {
   "cell_type": "code",
   "execution_count": null,
   "metadata": {
    "collapsed": false
   },
   "outputs": [],
   "source": [
    "ax = df.boxplot(column=[0, 1], return_type='axes')\n",
    "ax.set_title('Comparing Query Duration Distributions\\n of Two Database Implementations')\n",
    "ax.set_xticklabels(['NaiveDifferential', 'BloomDifferential'])\n",
    "ax.set_ylabel('Query Durations (seconds)')"
   ]
  },
  {
   "cell_type": "code",
   "execution_count": null,
   "metadata": {
    "collapsed": false
   },
   "outputs": [],
   "source": [
    "fig = plt.pyplot.gcf()\n",
    "fig.savefig('query_duration_box_plot.png', dpi=300)"
   ]
  },
  {
   "cell_type": "code",
   "execution_count": null,
   "metadata": {
    "collapsed": true
   },
   "outputs": [],
   "source": []
  }
 ],
 "metadata": {
  "anaconda-cloud": {},
  "kernelspec": {
   "display_name": "Python [Root]",
   "language": "python",
   "name": "Python [Root]"
  },
  "language_info": {
   "codemirror_mode": {
    "name": "ipython",
    "version": 3
   },
   "file_extension": ".py",
   "mimetype": "text/x-python",
   "name": "python",
   "nbconvert_exporter": "python",
   "pygments_lexer": "ipython3",
   "version": "3.5.2"
  }
 },
 "nbformat": 4,
 "nbformat_minor": 0
}

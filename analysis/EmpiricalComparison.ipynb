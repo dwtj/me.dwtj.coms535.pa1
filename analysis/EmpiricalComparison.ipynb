{
 "cells": [
  {
   "cell_type": "code",
   "execution_count": null,
   "metadata": {
    "collapsed": false
   },
   "outputs": [],
   "source": [
    "%matplotlib inline\n",
    "\n",
    "import pandas as pd\n",
    "import matplotlib as plt"
   ]
  },
  {
   "cell_type": "code",
   "execution_count": null,
   "metadata": {
    "collapsed": true
   },
   "outputs": [],
   "source": [
    "df = pd.read_csv('EmpiricalComparison.csv')\n",
    "df.columns = ['NaiveDifferential Duration',\n",
    "              'BloomDifferential Duration',\n",
    "              'InDiffFile?',\n",
    "              'InFilter?']\n",
    "\n",
    "# Convert durations from ms to s:\n",
    "df['NaiveDifferential Duration'] /= 1000\n",
    "df['BloomDifferential Duration'] /= 1000"
   ]
  },
  {
   "cell_type": "code",
   "execution_count": null,
   "metadata": {
    "collapsed": false
   },
   "outputs": [],
   "source": [
    "df.mean()"
   ]
  },
  {
   "cell_type": "code",
   "execution_count": null,
   "metadata": {
    "collapsed": false
   },
   "outputs": [],
   "source": [
    "overall_duration = df['NaiveDifferential Duration'].sum() + df['BloomDifferential Duration'].sum()\n",
    "overall_duration /= (60*60) # Convert to hours.\n",
    "overall_duration"
   ]
  },
  {
   "cell_type": "code",
   "execution_count": null,
   "metadata": {
    "collapsed": false
   },
   "outputs": [],
   "source": [
    "overall_speedup = df['NaiveDifferential Duration'].sum() / df['BloomDifferential Duration'].sum()\n",
    "overall_speedup"
   ]
  },
  {
   "cell_type": "code",
   "execution_count": null,
   "metadata": {
    "collapsed": false
   },
   "outputs": [],
   "source": [
    "ax = df.boxplot(column=[0, 1], return_type='axes')\n",
    "ax.set_title('Comparing Query Duration Distributions\\n of Two Database Implementations')\n",
    "ax.set_xticklabels(['NaiveDifferential', 'BloomDifferential'])\n",
    "ax.set_ylabel('Query Durations (seconds)')"
   ]
  },
  {
   "cell_type": "code",
   "execution_count": null,
   "metadata": {
    "collapsed": false
   },
   "outputs": [],
   "source": [
    "fig = plt.pyplot.gcf()\n",
    "fig.savefig('query_duration_box_plot.png', dpi=300)"
   ]
  },
  {
   "cell_type": "code",
   "execution_count": null,
   "metadata": {
    "collapsed": true
   },
   "outputs": [],
   "source": [
    "per_query_speedup = df['NaiveDifferential Duration'] / df['BloomDifferential Duration']"
   ]
  },
  {
   "cell_type": "code",
   "execution_count": null,
   "metadata": {
    "collapsed": false
   },
   "outputs": [],
   "source": [
    "per_query_speedup.mean()"
   ]
  },
  {
   "cell_type": "code",
   "execution_count": null,
   "metadata": {
    "collapsed": false
   },
   "outputs": [],
   "source": [
    "per_query_speedup.std()"
   ]
  },
  {
   "cell_type": "code",
   "execution_count": null,
   "metadata": {
    "collapsed": false
   },
   "outputs": [],
   "source": [
    "ax = per_query_speedup.to_frame().boxplot(column=0, return_type='axes')\n",
    "ax.set_ylim([0.5, 2.5])\n",
    "ax.set_xticklabels([\"\"])\n",
    "ax.set_ylabel(\"Query Speedup\")\n",
    "fig = plt.pyplot.gcf()\n",
    "fig.set_size_inches(4, 7)\n",
    "fig.savefig('query_speedup_box_plot.png', dpi=300)"
   ]
  },
  {
   "cell_type": "code",
   "execution_count": null,
   "metadata": {
    "collapsed": false
   },
   "outputs": [],
   "source": [
    "per_query_speedup.median()"
   ]
  },
  {
   "cell_type": "code",
   "execution_count": null,
   "metadata": {
    "collapsed": false
   },
   "outputs": [],
   "source": [
    "per_query_speedup.max()"
   ]
  }
 ],
 "metadata": {
  "anaconda-cloud": {},
  "kernelspec": {
   "display_name": "Python [Root]",
   "language": "python",
   "name": "Python [Root]"
  },
  "language_info": {
   "codemirror_mode": {
    "name": "ipython",
    "version": 3
   },
   "file_extension": ".py",
   "mimetype": "text/x-python",
   "name": "python",
   "nbconvert_exporter": "python",
   "pygments_lexer": "ipython3",
   "version": "3.5.2"
  }
 },
 "nbformat": 4,
 "nbformat_minor": 0
}
